{
  "nbformat": 4,
  "nbformat_minor": 0,
  "metadata": {
    "colab": {
      "provenance": []
    },
    "kernelspec": {
      "name": "python3",
      "display_name": "Python 3"
    },
    "language_info": {
      "name": "python"
    }
  },
  "cells": [
    {
      "cell_type": "code",
      "execution_count": 1,
      "metadata": {
        "colab": {
          "base_uri": "https://localhost:8080/"
        },
        "id": "VyL3wBebKYAh",
        "outputId": "737af950-f3f8-4a1d-f670-1dde4f79d9b9"
      },
      "outputs": [
        {
          "output_type": "stream",
          "name": "stdout",
          "text": [
            "Enter the first side of the triangle: 6\n",
            "Enter the second side of the triangle: 8\n",
            "Enter the third side of the triangle: 12\n",
            "The triangle is scalene\n"
          ]
        }
      ],
      "source": [
        "#Question 1\n",
        "x = int(input(\"Enter the first side of the triangle: \"))\n",
        "y = int(input(\"Enter the second side of the triangle: \"))\n",
        "z = int(input(\"Enter the third side of the triangle: \"))\n",
        "if x == y == z:\n",
        "    print(\"The triangle is equilateral\")\n",
        "elif x == y or y == z or z == x:\n",
        "    print(\"The triangle is isosceles\")\n",
        "else:\n",
        "    print(\"The triangle is scalene\")\n",
        "#"
      ]
    },
    {
      "cell_type": "code",
      "source": [
        "#Question 2\n",
        "def pizza_cost(num_pizzas, cost_per_pizza=12, delivery_charge=5):\n",
        "    total_cost = num_pizzas * cost_per_pizza + delivery_charge\n",
        "    return total_cost\n",
        "num_pizzas = int(input(\"Enter the number of pizzas: \"))\n",
        "print(pizza_cost(num_pizzas))"
      ],
      "metadata": {
        "colab": {
          "base_uri": "https://localhost:8080/"
        },
        "id": "x8-QnS-zLUxz",
        "outputId": "95611e91-d1a6-4c01-e702-9341f44d7101"
      },
      "execution_count": 2,
      "outputs": [
        {
          "output_type": "stream",
          "name": "stdout",
          "text": [
            "Enter the number of pizzas: 3\n",
            "41\n"
          ]
        }
      ]
    },
    {
      "cell_type": "code",
      "source": [
        "#Question 3\n",
        "password = input(\"Enter a password: \")\n",
        "if not any(char.isupper() for char in password):\n",
        "    print(\"The password must contain at least one capital letter\")\n",
        "if not any(char.islower() for char in password):\n",
        "    print(\"The password must contain at least one lowercase letter\")\n",
        "if not any(char.isdigit() for char in password):\n",
        "    print(\"The password must contain at least one number\")\n",
        "if not any(char in \"!@#$%^&*()_+{}|:\\\"<>?,./\" for char in password):\n",
        "    print(\"The password must contain at least one special character\")\n",
        "if len(password) < 6:\n",
        "    print(\"The password must be at least 6 characters long\")\n",
        "if len(password) > 16:\n",
        "    print(\"The password must be at most 16 characters long\")"
      ],
      "metadata": {
        "colab": {
          "base_uri": "https://localhost:8080/"
        },
        "id": "oeKdjC7iL3p-",
        "outputId": "50ec5fcb-74ca-47d7-b967-c0c12dfc0d99"
      },
      "execution_count": 3,
      "outputs": [
        {
          "output_type": "stream",
          "name": "stdout",
          "text": [
            "Enter a password: hello@123\n",
            "The password must contain at least one capital letter\n"
          ]
        }
      ]
    },
    {
      "cell_type": "code",
      "source": [
        "#Question 4\n",
        "#Write a function called final_grade that takes a student's test score as a required argument,\n",
        "#an optional extra credit (default 0), and a maximum possible score (default 100). The\n",
        "#function should return the final grade percentage.\n",
        "def final_grade(test_score, extra_credit=0, max_score=100):\n",
        "    final_score = test_score + extra_credit\n",
        "    final_percentage = (final_score / max_score) * 100\n",
        "    return final_percentage\n",
        "\n",
        "test_score = int(input(\"Enter the student's test score: \"))\n",
        "extra_credit = int(input(\"Enter the student's extra credit: \"))\n",
        "print(final_grade(test_score,extra_credit),'%')"
      ],
      "metadata": {
        "colab": {
          "base_uri": "https://localhost:8080/"
        },
        "id": "hk7BKatqNBuM",
        "outputId": "3e4fecbd-0865-422c-8f24-ff5ec1506196"
      },
      "execution_count": 8,
      "outputs": [
        {
          "output_type": "stream",
          "name": "stdout",
          "text": [
            "Enter the student's test score: 85\n",
            "Enter the student's extra credit: 5\n",
            "90.0 %\n"
          ]
        }
      ]
    },
    {
      "cell_type": "code",
      "source": [
        "#Question 5\n",
        "n = int(input(\"Enter a number: \"))\n",
        "a = 0\n",
        "b = 1\n",
        "print(a)\n",
        "print(b)\n",
        "for i in range(2,n):\n",
        "    c = a + b\n",
        "    a = b\n",
        "    b = c\n",
        "    print(c)\n"
      ],
      "metadata": {
        "colab": {
          "base_uri": "https://localhost:8080/"
        },
        "id": "Qz3LJd1WNVwT",
        "outputId": "b778c51f-3972-475d-f527-2052f054a37b"
      },
      "execution_count": 11,
      "outputs": [
        {
          "output_type": "stream",
          "name": "stdout",
          "text": [
            "Enter a number: 5\n",
            "0\n",
            "1\n",
            "1\n",
            "2\n",
            "3\n"
          ]
        }
      ]
    },
    {
      "cell_type": "code",
      "source": [
        "#Question 6\n",
        "num1 = int(input(\"Enter the first number: \"))\n",
        "num2 = int(input(\"Enter the second number: \"))\n",
        "operator = input(\"Enter the operator: \")\n",
        "if operator == '+':\n",
        "    print(num1 + num2)\n",
        "elif operator == '-':\n",
        "    print(num1 - num2)\n",
        "elif operator == '*':\n",
        "    print(num1 * num2)\n",
        "elif operator == '/':\n",
        "    print(num1 / num2)\n",
        "else:\n",
        "    print(\"Invalid operator\")\n",
        "\n",
        ""
      ],
      "metadata": {
        "colab": {
          "base_uri": "https://localhost:8080/"
        },
        "id": "VrVK2niDOaPx",
        "outputId": "3eda41f5-bc9e-4ab2-db06-4b44b1f7a62d"
      },
      "execution_count": 12,
      "outputs": [
        {
          "output_type": "stream",
          "name": "stdout",
          "text": [
            "Enter the first number: 8\n",
            "Enter the second number: 4\n",
            "Enter the operator: +\n",
            "12\n"
          ]
        }
      ]
    },
    {
      "cell_type": "code",
      "source": [
        "#Question 7\n",
        "def is_divisable_by_11(num):\n",
        "    if num % 11 == 0:\n",
        "        return True\n",
        "    else:\n",
        "        return False\n",
        "num = int(input(\"Enter a number: \"))\n",
        "print(is_divisable_by_11(num))"
      ],
      "metadata": {
        "colab": {
          "base_uri": "https://localhost:8080/"
        },
        "id": "jRfwbE6DPLXd",
        "outputId": "66ba9f3b-342e-4d7b-d53c-999de03ad2b8"
      },
      "execution_count": 14,
      "outputs": [
        {
          "output_type": "stream",
          "name": "stdout",
          "text": [
            "Enter a number: 22\n",
            "True\n"
          ]
        }
      ]
    },
    {
      "cell_type": "code",
      "source": [
        "#Question 8\n",
        "def fuel_cost(distance, mpg=50, fuel_cost=1):\n",
        "    fuel_used = distance / mpg\n",
        "    total_cost = fuel_used * fuel_cost\n",
        "    return total_cost\n",
        "\n",
        "distance = int(input(\"Enter the distance: \"))\n",
        "print(fuel_cost(distance),'$')"
      ],
      "metadata": {
        "colab": {
          "base_uri": "https://localhost:8080/"
        },
        "id": "zmPN0g5KPWVE",
        "outputId": "f8f93e23-f5d9-4578-996c-490546297cc7"
      },
      "execution_count": 16,
      "outputs": [
        {
          "output_type": "stream",
          "name": "stdout",
          "text": [
            "Enter the distance: 100\n",
            "2.0 $\n"
          ]
        }
      ]
    },
    {
      "cell_type": "code",
      "source": [
        "#Question 9\n",
        "#Write a Python program to get the next day of a given date.\n",
        "year = int(input(\"enter a year: \"))\n",
        "month = int(input(\"enter a month: \"))\n",
        "day = int(input(\"enter a day: \"))\n",
        "\n",
        "next_day= day + 1\n",
        "print(f'{year}-{month}-{next_day}')\n"
      ],
      "metadata": {
        "colab": {
          "base_uri": "https://localhost:8080/"
        },
        "id": "nF_FpMOvP7_u",
        "outputId": "5cc19851-7304-444d-ea40-7bf018eeeb2e"
      },
      "execution_count": 17,
      "outputs": [
        {
          "output_type": "stream",
          "name": "stdout",
          "text": [
            "enter a year: 2016\n",
            "enter a month: 08\n",
            "enter a day: 23\n",
            "2016-8-24\n"
          ]
        }
      ]
    },
    {
      "cell_type": "code",
      "source": [
        "#Question 10\n",
        "# Write a Python program to find the median of three values.\n",
        "num1 = int(input('enter first number: '))\n",
        "num2 = int(input('enter second number: '))\n",
        "num3 = int(input('enter third number: '))\n",
        "\n",
        "median = (num1 + num2 + num3) - min(num1, num2, num3) - max(num1, num2, num3)\n",
        "print(f'The median is {median}')\n"
      ],
      "metadata": {
        "colab": {
          "base_uri": "https://localhost:8080/"
        },
        "id": "aUfqhBZMQ0VV",
        "outputId": "e1560916-bc47-41e9-d582-fbdeddaea493"
      },
      "execution_count": 18,
      "outputs": [
        {
          "output_type": "stream",
          "name": "stdout",
          "text": [
            "enter first number: 15\n",
            "enter second number: 26\n",
            "enter third number: 29\n",
            "The median is 26\n"
          ]
        }
      ]
    },
    {
      "cell_type": "code",
      "source": [],
      "metadata": {
        "id": "gWMwf7ANRQIz"
      },
      "execution_count": null,
      "outputs": []
    }
  ]
}