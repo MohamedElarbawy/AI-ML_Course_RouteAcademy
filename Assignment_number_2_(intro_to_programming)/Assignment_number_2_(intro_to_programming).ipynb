{
  "nbformat": 4,
  "nbformat_minor": 0,
  "metadata": {
    "colab": {
      "provenance": []
    },
    "kernelspec": {
      "name": "python3",
      "display_name": "Python 3"
    },
    "language_info": {
      "name": "python"
    }
  },
  "cells": [
    {
      "cell_type": "code",
      "execution_count": 8,
      "metadata": {
        "colab": {
          "base_uri": "https://localhost:8080/"
        },
        "id": "iV5c9xP5yq0Z",
        "outputId": "dcf91586-f1e6-41e1-cc9c-37caf4228d97"
      },
      "outputs": [
        {
          "output_type": "stream",
          "name": "stdout",
          "text": [
            "125\n"
          ]
        }
      ],
      "source": [
        "#Question 1\n",
        "\n",
        "def power(base,exp):\n",
        "    if(exp==0):\n",
        "        return 1\n",
        "    elif(exp==1):\n",
        "        return(base)\n",
        "    else:\n",
        "        return(base*power(base,exp-1))\n",
        "print(power(5,3))"
      ]
    },
    {
      "cell_type": "code",
      "source": [
        "#Question 2\n",
        "\n",
        "def area(shape,**dimensions):\n",
        "    if(shape=='square'):\n",
        "        area=dimensions['side']**2\n",
        "    elif(shape=='rectangle'):\n",
        "        area=dimensions['length']*dimensions['width']\n",
        "    elif(shape=='circle'):\n",
        "        area=3.14*dimensions['radius']**2\n",
        "    elif(shape=='triangle'):\n",
        "        area=0.5*dimensions['length']*dimensions['width']\n",
        "    else:\n",
        "        print('Invalid shape')\n",
        "    return area\n",
        "print(area('circle',radius=5))\n",
        "print(area('rectangle',length=5,width=3))\n",
        "print(area('square',side=5))\n",
        "print(area('triangle',length=5,width=3))\n"
      ],
      "metadata": {
        "colab": {
          "base_uri": "https://localhost:8080/"
        },
        "id": "ht-xcg4JzKdj",
        "outputId": "b1181b12-3590-4ef4-acc3-97d6bb5f9ee5"
      },
      "execution_count": 14,
      "outputs": [
        {
          "output_type": "stream",
          "name": "stdout",
          "text": [
            "78.5\n",
            "15\n",
            "25\n",
            "7.5\n"
          ]
        }
      ]
    },
    {
      "cell_type": "code",
      "source": [
        "#Question 3\n",
        "\n",
        "def sum(list):\n",
        "    sum=0\n",
        "    for i in list:\n",
        "        sum+=i\n",
        "    return sum\n",
        "print(sum([1,2,3,4,5]))"
      ],
      "metadata": {
        "colab": {
          "base_uri": "https://localhost:8080/"
        },
        "id": "hWbwk9Vm09u0",
        "outputId": "00737206-4418-48c2-c3fb-577712cee24d"
      },
      "execution_count": 15,
      "outputs": [
        {
          "output_type": "stream",
          "name": "stdout",
          "text": [
            "15\n"
          ]
        }
      ]
    },
    {
      "cell_type": "code",
      "source": [
        "#Question 4\n",
        "\n",
        "def get_max_min(tuple1,tuple2):\n",
        "    tuple3=tuple1+tuple2\n",
        "    max=tuple3[0]\n",
        "    min=tuple3[0]\n",
        "    for i in tuple3:\n",
        "        if(i>max):\n",
        "            max=i\n",
        "        if(i<min):\n",
        "            min=i\n",
        "    return max,min\n",
        "def get_max_min_2(tuple1,tuple2):\n",
        "    tuple3=tuple1+tuple2\n",
        "    return max(tuple3),min(tuple3)\n",
        "\n",
        "print(get_max_min((1,2,3),(4,5,6)))\n",
        "print(get_max_min_2((1,2,3),(4,5,6)))"
      ],
      "metadata": {
        "colab": {
          "base_uri": "https://localhost:8080/"
        },
        "id": "m6q4f3tK4EoV",
        "outputId": "7cb2953e-ef48-4915-9b19-7d189a725c4f"
      },
      "execution_count": 17,
      "outputs": [
        {
          "output_type": "stream",
          "name": "stdout",
          "text": [
            "(6, 1)\n",
            "(6, 1)\n"
          ]
        }
      ]
    },
    {
      "cell_type": "code",
      "source": [
        "#Qustion 5\n",
        "\n",
        "def get_count(tuple):\n",
        "    count = 0\n",
        "    for i in tuple:\n",
        "      count += 1\n",
        "    if count > 5:\n",
        "      return count\n",
        "    else:\n",
        "      return \"Tuple count is less than or equal 5\"\n",
        "print(get_count((1,2,3,4,5,6,7,8,9,10)))\n",
        "print(get_count((1,2,3,4,5)))"
      ],
      "metadata": {
        "colab": {
          "base_uri": "https://localhost:8080/"
        },
        "id": "8yO4Pa6B4Xvl",
        "outputId": "c23e3380-e653-49ee-8e8e-e32c83305180"
      },
      "execution_count": 19,
      "outputs": [
        {
          "output_type": "stream",
          "name": "stdout",
          "text": [
            "10\n",
            "Tuple count is less than or equal 5\n"
          ]
        }
      ]
    },
    {
      "cell_type": "code",
      "source": [
        "#Question 6\n",
        "\n",
        "def print_index(list):\n",
        "  index = 0\n",
        "  for i in list:\n",
        "    print(index)\n",
        "    index += 1\n",
        "print_index([1,2,3,4,5,6,7,8,9,10])\n"
      ],
      "metadata": {
        "colab": {
          "base_uri": "https://localhost:8080/"
        },
        "id": "oxarIES75kOs",
        "outputId": "0999f3bb-13dd-4192-9a60-77b60f1b8c72"
      },
      "execution_count": 21,
      "outputs": [
        {
          "output_type": "stream",
          "name": "stdout",
          "text": [
            "0\n",
            "1\n",
            "2\n",
            "3\n",
            "4\n",
            "5\n",
            "6\n",
            "7\n",
            "8\n",
            "9\n"
          ]
        }
      ]
    },
    {
      "cell_type": "code",
      "source": [
        "#Question 7\n",
        "\n",
        "def is_prime(number):\n",
        "  if number < 2:\n",
        "    return False\n",
        "  for i in range(2, number):\n",
        "    if number % i == 0:\n",
        "      return False\n",
        "  return True\n",
        "print(is_prime(5))\n",
        "print(is_prime(6))\n"
      ],
      "metadata": {
        "colab": {
          "base_uri": "https://localhost:8080/"
        },
        "id": "W7bFaD8z6zpq",
        "outputId": "afe7d1dc-b1eb-481e-8a4c-e79323d4aa50"
      },
      "execution_count": 23,
      "outputs": [
        {
          "output_type": "stream",
          "name": "stdout",
          "text": [
            "True\n",
            "False\n"
          ]
        }
      ]
    },
    {
      "cell_type": "code",
      "source": [
        "#Question 8\n",
        "\n",
        "class Restaurant:\n",
        "    def __init__(self, menu_items,customer_orders,reserved_tables):\n",
        "        self.menu_items = menu_items\n",
        "        self.customer_orders = customer_orders\n",
        "        self.reserved_tables = reserved_tables\n",
        "    def add_item(self, item):\n",
        "        self.menu_items.append(item)\n",
        "    def remove_item(self, item):\n",
        "        self.menu_items.remove(item)\n",
        "    def take_order(self, order):\n",
        "        self.customer_orders.append(order)\n",
        "    def book_table(self,table):\n",
        "      self.reserved_tables.append(table)\n",
        "\n",
        "    def get_menu_items(self):\n",
        "        return self.menu_items\n",
        "    def get_customer_orders(self):\n",
        "        return self.customer_orders\n",
        "    def get_reserved_tables(self):\n",
        "       return self.reserved_tables\n",
        "\n",
        "rst = Restaurant([\"Pizza\", \"Burger\", \"Fish\"],[],[])\n",
        "rst.add_item(\"Salad\")\n",
        "rst.remove_item(\"Fish\")\n",
        "rst.take_order(\"Pizza\")\n",
        "rst.book_table(1)\n",
        "rst.book_table(3)\n",
        "rst.book_table(7)\n",
        "print('menu:',rst.get_menu_items())\n",
        "print('orders:',rst.get_customer_orders())\n",
        "print('reservations:',rst.get_reserved_tables())\n",
        "\n",
        "\n",
        "\n",
        "\n"
      ],
      "metadata": {
        "colab": {
          "base_uri": "https://localhost:8080/"
        },
        "id": "lEnxskhN71s5",
        "outputId": "9ae06231-2f05-4a9b-e910-e5325449a903"
      },
      "execution_count": 31,
      "outputs": [
        {
          "output_type": "stream",
          "name": "stdout",
          "text": [
            "menu: ['Pizza', 'Burger', 'Salad']\n",
            "orders: ['Pizza']\n",
            "reservations: [1, 3, 7]\n"
          ]
        }
      ]
    },
    {
      "cell_type": "code",
      "source": [
        "#Question 9\n",
        "\n",
        "class Customer:\n",
        "    def __init__(self, name, age):\n",
        "        self.name = name\n",
        "        self.age = age\n",
        "    def get_name(self):\n",
        "        return self.name\n",
        "    def get_age(self):\n",
        "        return self.age\n",
        "    def set_name(self, name):\n",
        "        self.name = name\n",
        "    def set_age(self, age):\n",
        "        self.age = age\n",
        "\n",
        "class MainBikeRental:\n",
        "    def __init__(self, bikes,rentals):\n",
        "        self.bikes = bikes\n",
        "        self.rentals = rentals\n",
        "    def get_bikes(self):\n",
        "        for b in self.bikes:\n",
        "          print(b.get_name(),b.get_price())\n",
        "        return self.bikes\n",
        "    def get_rentals(self):\n",
        "        return self.rentals\n",
        "    def set_bikes(self, bikes):\n",
        "        self.bikes = bikes\n",
        "    def set_rentals(self, rentals):\n",
        "        self.rentals = rentals\n",
        "    def request_bike(self, customer,num_of_bikes):\n",
        "        if customer.age < 6:\n",
        "            print(\"Customer is too young to rent a bike\")\n",
        "            return\n",
        "        if num_of_bikes > len(self.bikes):\n",
        "            print(\"Not enough bikes available\")\n",
        "            print(\"Wait 10 minutes\")\n",
        "            return\n",
        "        reserved_bikes = []\n",
        "        for i in range(num_of_bikes):\n",
        "            reserved_bikes.append(self.bikes.pop())\n",
        "        self.rentals.append((customer,reserved_bikes))\n",
        "\n",
        "    def return_bike(self, customer,rental_time,num_of_bikes):\n",
        "        for rental in self.rentals:\n",
        "            if rental[0] == customer:\n",
        "                for i in range(num_of_bikes):\n",
        "                    self.bikes.append(rental[1].pop())\n",
        "                self.rentals.remove(rental)\n",
        "                return rental_time * 40 * num_of_bikes\n",
        "        return 0\n",
        "    def add_bike(self, bike):\n",
        "        self.bikes.append(bike)\n",
        "    def remove_bike(self, bike):\n",
        "        self.bikes.remove(bike)\n",
        "    def total_cost_of_bikes(self):\n",
        "        total_cost = 0\n",
        "        for bike in self.bikes:\n",
        "            total_cost += bike.price\n",
        "        return total_cost\n",
        "\n",
        "\n",
        "class Bike:\n",
        "  def __init__(self,name,price):\n",
        "    self.name = name\n",
        "    self.price = price\n",
        "  def get_name(self):\n",
        "    return self.name\n",
        "  def get_price(self):\n",
        "    return self.price\n",
        "  def set_name(self, name):\n",
        "    self.name = name\n",
        "  def set_price(self, price):\n",
        "    self.price = price\n",
        "\n",
        "\n",
        "\n",
        "customer1 = Customer(\"Mohamed\",20)\n",
        "customer2 = Customer(\"Ahmed\",10)\n",
        "customer3 = Customer(\"Ali\",5)\n",
        "bike1 = Bike(\"Bike1\",100)\n",
        "bike2 = Bike(\"Bike2\",200)\n",
        "bike3 = Bike(\"Bike3\",300)\n",
        "bike4 = Bike(\"Bike4\",400)\n",
        "bike5 = Bike(\"Bike5\",500)\n",
        "\n",
        "rental_system = MainBikeRental([bike1,bike2,bike3],[])\n",
        "rental_system.add_bike(bike4)\n",
        "rental_system.add_bike(bike5)\n",
        "rental_system.request_bike(customer1,1)\n",
        "rental_cost = rental_system.return_bike(customer1,10,1)\n",
        "print(f'rental cost:{rental_cost}')\n",
        "rental_system.request_bike(customer2,7)\n",
        "rental_system.request_bike(customer3,1)\n",
        "\n",
        "# print(rental_system.get_bikes())\n",
        "cost_of_bikes = rental_system.total_cost_of_bikes()\n",
        "print(f'cost of bikes:{cost_of_bikes}')\n",
        "\n",
        "\n"
      ],
      "metadata": {
        "colab": {
          "base_uri": "https://localhost:8080/"
        },
        "id": "Up3lLGWC_Zl0",
        "outputId": "e4f656bb-0f67-4c2b-af22-ce6f4849f9d5"
      },
      "execution_count": 43,
      "outputs": [
        {
          "output_type": "stream",
          "name": "stdout",
          "text": [
            "rental cost:400\n",
            "Not enough bikes available\n",
            "Wait 10 minutes\n",
            "Customer is too young to rent a bike\n",
            "cost of bikes:1500\n"
          ]
        }
      ]
    },
    {
      "cell_type": "code",
      "source": [],
      "metadata": {
        "id": "LP6bFWEgErO8"
      },
      "execution_count": null,
      "outputs": []
    }
  ]
}