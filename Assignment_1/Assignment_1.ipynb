{
  "cells": [
    {
      "cell_type": "code",
      "execution_count": null,
      "metadata": {
        "colab": {
          "base_uri": "https://localhost:8080/"
        },
        "id": "xqzhFlsmj2pJ",
        "outputId": "c6efbf4c-3a0e-4772-e81f-0d753b1a5964"
      },
      "outputs": [
        {
          "name": "stdout",
          "output_type": "stream",
          "text": [
            "first number:1\n",
            "second number:10\n",
            "third number:100\n",
            "first number is positive\n",
            "second number is positive\n",
            "third number is positive\n",
            "min number is 1\n",
            "max number is 100\n"
          ]
        }
      ],
      "source": [
        "#Question 1\n",
        "firstNum = int(input(\"first number:\"))\n",
        "secNum = int(input(\"second number:\"))\n",
        "thirdNum = int(input(\"third number:\"))\n",
        "\n",
        "if firstNum == 0:\n",
        "  print(\"first number is zero\")\n",
        "elif firstNum > 0:\n",
        "  print(\"first number is positive\")\n",
        "else:\n",
        "  print(\"first number is negative\")\n",
        "\n",
        "if secNum == 0:\n",
        "  print(\"second number is zero\")\n",
        "elif secNum > 0:\n",
        "  print(\"second number is positive\")\n",
        "else:\n",
        "  print(\"second number is negative\")\n",
        "\n",
        "\n",
        "if thirdNum == 0:\n",
        "  print(\"third number is zero\")\n",
        "if thirdNum > 0:\n",
        "  print(\"third number is positive\")\n",
        "else:\n",
        "  print(\"third number is negative\")\n",
        "\n",
        "minNum = min(firstNum, secNum, thirdNum)\n",
        "maxNum = max(firstNum, secNum, thirdNum)\n",
        "if minNum == maxNum:\n",
        "  print(\"the num is:\",minNum)\n",
        "else:\n",
        "  print(\"min number is\", minNum)\n",
        "  print(\"max number is\", maxNum)\n"
      ]
    },
    {
      "cell_type": "code",
      "execution_count": null,
      "metadata": {
        "colab": {
          "base_uri": "https://localhost:8080/"
        },
        "id": "5hKUNTEoj_2k",
        "outputId": "43343fce-d24c-4e61-d1dd-1985e70076df"
      },
      "outputs": [
        {
          "name": "stdout",
          "output_type": "stream",
          "text": [
            "enter a word:hello\n",
            "there is “o” (vowel character) in index 4\n",
            "there is “e” (vowel character) in index 1\n"
          ]
        }
      ],
      "source": [
        "#Question 2\n",
        "word = input(\"enter a word:\")\n",
        "aIndex = word.find('a')\n",
        "iIndex = word.find('i')\n",
        "oIndex = word.find('o')\n",
        "uIndex = word.find('u')\n",
        "eIndex = word.find('e')\n",
        "if aIndex != -1:\n",
        "  print(\"there is “a” (vowel character) in index\",aIndex)\n",
        "if aIndex != -1:\n",
        "  print(\"there is “i” (vowel character) in index\",iIndex)\n",
        "if oIndex != -1:\n",
        "  print(\"there is “o” (vowel character) in index\",oIndex)\n",
        "if uIndex != -1:\n",
        "  print(\"there is “u” (vowel character) in index\",uIndex)\n",
        "if eIndex != -1:\n",
        "  print(\"there is “e” (vowel character) in index\",eIndex)\n"
      ]
    },
    {
      "cell_type": "code",
      "execution_count": 4,
      "metadata": {
        "colab": {
          "base_uri": "https://localhost:8080/"
        },
        "id": "Sczwp5vQaaWI",
        "outputId": "f9f21af5-ec73-48dd-cabe-3421ac9d0804"
      },
      "outputs": [
        {
          "name": "stdout",
          "output_type": "stream",
          "text": [
            "8\n"
          ]
        }
      ],
      "source": [
        "#Question 3\n",
        "num = input(\"enter number:\")\n",
        "print(num[-1])"
      ]
    },
    {
      "cell_type": "code",
      "execution_count": null,
      "metadata": {
        "colab": {
          "base_uri": "https://localhost:8080/"
        },
        "id": "pmTA7jHidnQn",
        "outputId": "d417fb04-274c-4e66-dd16-271835664f92"
      },
      "outputs": [
        {
          "name": "stdout",
          "output_type": "stream",
          "text": [
            "enter number:10\n"
          ]
        }
      ],
      "source": [
        "#Question 4\n",
        "num = int(input(\"enter number:\"))\n",
        "if num % 2 == 0 and num % 3 == 0:\n",
        "  print(\"the number is divisible by 2 and 3\")\n",
        "else:\n",
        "  print(\"the number is not divisible by 2 and 3\")"
      ]
    },
    {
      "cell_type": "code",
      "execution_count": null,
      "metadata": {
        "colab": {
          "base_uri": "https://localhost:8080/"
        },
        "id": "-D-952kgeJ1f",
        "outputId": "922144d6-a55f-46fd-8ffc-9230825b6c21"
      },
      "outputs": [
        {
          "name": "stdout",
          "output_type": "stream",
          "text": [
            "enter number of working days:100\n",
            "enter number of absent days:30\n",
            "class attendance is 70.0 %\n",
            "you are not allowed to sit in exam\n"
          ]
        }
      ],
      "source": [
        "#Question 5\n",
        "numOfWorkingDays = int(input(\"enter number of working days:\"))\n",
        "numOfAbsentDays = int(input(\"enter number of absent days:\"))\n",
        "classAttendance = (numOfWorkingDays - numOfAbsentDays) / numOfWorkingDays * 100\n",
        "print(\"class attendance is\",classAttendance,\"%\")\n",
        "if(classAttendance >= 75):\n",
        "  print(\"you are allowed to sit in exam\")\n",
        "else:\n",
        "  print(\"you are not allowed to sit in exam\")"
      ]
    },
    {
      "cell_type": "code",
      "execution_count": null,
      "metadata": {
        "colab": {
          "base_uri": "https://localhost:8080/"
        },
        "id": "jK2r6D6EgY6D",
        "outputId": "8c1a69dc-adf1-4eef-c23c-54aa0df7369c"
      },
      "outputs": [
        {
          "name": "stdout",
          "output_type": "stream",
          "text": [
            "enter string:aaaaA\n",
            "number of lower letters is 4\n",
            "number of upper letters is 1\n",
            "aaaaa\n"
          ]
        }
      ],
      "source": [
        "#Question 6\n",
        "string = input(\"enter string:\")\n",
        "numOfLowerLetters = 0\n",
        "numOfUpperLetters = 0\n",
        "for ch in string:\n",
        "  if ch.islower():\n",
        "    numOfLowerLetters += 1\n",
        "  elif ch.isupper():\n",
        "    numOfUpperLetters += 1\n",
        "print(\"number of lower letters is\",numOfLowerLetters)\n",
        "print(\"number of upper letters is\",numOfUpperLetters)\n",
        "if(numOfLowerLetters >= numOfUpperLetters):\n",
        "  print(string.lower())\n",
        "else:\n",
        "  print(string.upper())"
      ]
    },
    {
      "cell_type": "code",
      "execution_count": null,
      "metadata": {
        "colab": {
          "base_uri": "https://localhost:8080/"
        },
        "id": "1_qWDHc0kn3V",
        "outputId": "b8ce56f6-bfaf-49b7-ee10-99ad9942f4bb"
      },
      "outputs": [
        {
          "name": "stdout",
          "output_type": "stream",
          "text": [
            "enter number1232\n"
          ]
        }
      ],
      "source": [
        "#Question 7\n",
        "number = input(\"enter number:\")\n",
        "if(number == number[::-1]):\n",
        "  print(\"the number is palindrome\")\n",
        "\n",
        "sumOfDigits = 0\n",
        "for digit in number:\n",
        "  sumOfDigits += int(digit) ** len(number)\n",
        "if number == str(sumOfDigits):\n",
        "  print(\"the number is armstrong number\")"
      ]
    },
    {
      "cell_type": "code",
      "execution_count": null,
      "metadata": {},
      "outputs": [],
      "source": [
        "#Question 8"
      ]
    },
    {
      "cell_type": "code",
      "execution_count": 2,
      "metadata": {},
      "outputs": [
        {
          "name": "stdout",
          "output_type": "stream",
          "text": [
            "sum Of Series: -13\n"
          ]
        }
      ],
      "source": [
        "#Question 9\n",
        "numOfElementsInSeries = input(\"enter number of elements in series:\")\n",
        "sumOfSeries = 1\n",
        "for element in range(2,int(numOfElementsInSeries)+1):\n",
        "  if element % 2 == 0:\n",
        "    sumOfSeries += element ** 2\n",
        "  else:\n",
        "    sumOfSeries -= element ** 2\n",
        "print(\"sum Of Series:\",sumOfSeries)"
      ]
    },
    {
      "cell_type": "code",
      "execution_count": null,
      "metadata": {
        "colab": {
          "base_uri": "https://localhost:8080/"
        },
        "id": "PqInhM3qrVCM",
        "outputId": "9466583b-3a05-494f-b583-6fb0fa04e2f0"
      },
      "outputs": [
        {
          "name": "stdout",
          "output_type": "stream",
          "text": [
            "the car is red\n",
            "the word car in position 2\n"
          ]
        }
      ],
      "source": [
        "#Question 10\n",
        "string = input()\n",
        "wordsList = string.split(' ')\n",
        "for word in wordsList:\n",
        "  if word == \"car\":\n",
        "    print(\"the word car in position\",wordsList.index(word)+1)"
      ]
    },
    {
      "cell_type": "code",
      "execution_count": null,
      "metadata": {
        "colab": {
          "base_uri": "https://localhost:8080/"
        },
        "id": "DX-UOzRjty8F",
        "outputId": "9e4024b1-adca-46c5-898d-44bc7d12ab5a"
      },
      "outputs": [
        {
          "name": "stdout",
          "output_type": "stream",
          "text": [
            "(text or number or number with text:how 123456\n",
            "text: how\n",
            "number: 123456\n"
          ]
        }
      ],
      "source": [
        "#Question 11\n",
        "inputStr = input(\"(text or number or number with text:\")\n",
        "inputStr = inputStr.replace(\" \",\"\")\n",
        "\n",
        "if inputStr.isnumeric():\n",
        "  sum =0\n",
        "  for digit in inputStr:\n",
        "    sum += int(digit)\n",
        "  print(\"sum on number\",sum)\n",
        "elif inputStr.isalpha():\n",
        "  print(\"text:\",inputStr)\n",
        "elif inputStr.isalnum() :\n",
        "  number = ''\n",
        "  text = ''\n",
        "  for ch in inputStr:\n",
        "    if ch.isnumeric():\n",
        "      number += ch\n",
        "    else:\n",
        "      text += ch\n",
        "  print(\"text:\",text)\n",
        "  print(\"number:\",number)\n"
      ]
    },
    {
      "cell_type": "code",
      "execution_count": null,
      "metadata": {
        "colab": {
          "base_uri": "https://localhost:8080/"
        },
        "id": "m0AiMK6oyT_g",
        "outputId": "8f448c34-e076-4bfc-facc-e819bc248300"
      },
      "outputs": [
        {
          "name": "stdout",
          "output_type": "stream",
          "text": [
            "[10.5, 44.0, 58.0, 2.5]\n"
          ]
        }
      ],
      "source": [
        "#Question 12\n",
        "inputTuple = ((10, 10, 10, 12), (30, 45, 56, 45), (81, 80, 39, 32), (1, 2, 3, 4))\n",
        "averages = []\n",
        "for tuple in inputTuple:\n",
        "  sum = 0\n",
        "  for num in tuple:\n",
        "    sum += num\n",
        "  averages.append(sum / len(tuple))\n",
        "print(averages)\n"
      ]
    },
    {
      "cell_type": "code",
      "execution_count": null,
      "metadata": {
        "colab": {
          "base_uri": "https://localhost:8080/"
        },
        "id": "spkjVa9M2jYv",
        "outputId": "714156fd-288b-4acd-cc3b-85bbc51e35c3"
      },
      "outputs": [
        {
          "name": "stdout",
          "output_type": "stream",
          "text": [
            "list is empty\n",
            "[1, 2, 3]\n"
          ]
        }
      ],
      "source": [
        "#Question 13\n",
        "list = []\n",
        "if(len(list) == 0):\n",
        "  print(\"list is empty\")\n",
        "\n",
        "list2 = [3,2,1]\n",
        "list2.sort()\n",
        "print(list2)"
      ]
    },
    {
      "cell_type": "code",
      "execution_count": null,
      "metadata": {
        "colab": {
          "base_uri": "https://localhost:8080/"
        },
        "id": "Dls0Mv2Q3pLz",
        "outputId": "328acbea-d0ca-46d1-9897-3a0ad1d7a3d1"
      },
      "outputs": [
        {
          "name": "stdout",
          "output_type": "stream",
          "text": [
            "[6, 3, 7]\n"
          ]
        }
      ],
      "source": [
        "#Question 14\n",
        "list = [4, 6, 3, 7]\n",
        "for item in list:\n",
        "  if(item % 2 == 0):\n",
        "    list.remove(item)\n",
        "print(list)"
      ]
    },
    {
      "cell_type": "code",
      "execution_count": null,
      "metadata": {
        "colab": {
          "base_uri": "https://localhost:8080/"
        },
        "id": "GvmeR-6g4U2d",
        "outputId": "ad38c0b4-d497-4e17-b846-0f77b6b6b18f"
      },
      "outputs": [
        {
          "name": "stdout",
          "output_type": "stream",
          "text": [
            "[3, 4, 6]\n"
          ]
        }
      ],
      "source": [
        "#Question 15\n",
        "test_list = [4, 6, 4, 3, 3, 4, 3, 4, 6, 6]\n",
        "test_list_clone = test_list.copy()\n",
        "k=2\n",
        "for item in test_list_clone:\n",
        "  if(test_list.count(item) >= k):\n",
        "    test_list.remove(item)\n",
        "print(test_list)"
      ]
    },
    {
      "cell_type": "code",
      "execution_count": null,
      "metadata": {
        "colab": {
          "base_uri": "https://localhost:8080/"
        },
        "id": "NKFwfTdc587g",
        "outputId": "73eebd28-4e07-4ca9-af5d-4aaea1fa8017"
      },
      "outputs": [
        {
          "name": "stdout",
          "output_type": "stream",
          "text": [
            "{'a': [4, 19], 'b': [10, 12], 'c': [3]}\n"
          ]
        }
      ],
      "source": [
        "#Question 16\n",
        "dict = {\"c\":[3], \"b\": [12, 10], \"a\": [19, 4]}\n",
        "\n",
        "dict = {key:sorted(value) for key, value in sorted(dict.items())}\n",
        "\n",
        "print(dict)"
      ]
    },
    {
      "cell_type": "code",
      "execution_count": null,
      "metadata": {
        "colab": {
          "base_uri": "https://localhost:8080/"
        },
        "id": "WqcSgGmx62Zt",
        "outputId": "a7bbf676-ba96-4f4e-84de-b7d4c9cab37d"
      },
      "outputs": [
        {
          "name": "stdout",
          "output_type": "stream",
          "text": [
            "{'Alice': {'age': 20, 'grades': [85, 90, 92, 95]}, 'Bob': {'age': 22, 'grades': [75, 80, 78]}, 'Charlie': {'age': 19, 'grades': [100, 97, 93]}}\n"
          ]
        }
      ],
      "source": [
        "#Question 17\n",
        "students = { 'Alice': {'age': 20, 'grades': [85, 90,92]},\n",
        "              'Bob': {'age': 21, 'grades': [75, 80, 78]},\n",
        "              'Charlie': {'age': 19, 'grades': [95, 97,93]} }\n",
        "def change_age(studentName, newAge):\n",
        "  students[studentName]['age'] = newAge\n",
        "change_age('Bob',22)\n",
        "def add_grade(studentName, grade):\n",
        "  students[studentName]['grades'].append(grade)\n",
        "add_grade('Alice', 95)\n",
        "def change_grade(studentName, gradeIndex,newGrade):\n",
        "  students[studentName]['grades'][gradeIndex] = newGrade\n",
        "change_grade('Charlie',0, 100)\n",
        "print(students)"
      ]
    },
    {
      "cell_type": "code",
      "execution_count": null,
      "metadata": {
        "id": "rTssXaIvvx8E"
      },
      "outputs": [],
      "source": []
    }
  ],
  "metadata": {
    "colab": {
      "provenance": []
    },
    "kernelspec": {
      "display_name": "Python 3",
      "name": "python3"
    },
    "language_info": {
      "codemirror_mode": {
        "name": "ipython",
        "version": 3
      },
      "file_extension": ".py",
      "mimetype": "text/x-python",
      "name": "python",
      "nbconvert_exporter": "python",
      "pygments_lexer": "ipython3",
      "version": "3.13.0"
    }
  },
  "nbformat": 4,
  "nbformat_minor": 0
}
